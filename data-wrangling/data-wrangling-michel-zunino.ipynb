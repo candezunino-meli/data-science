{
 "cells": [
  {
   "cell_type": "code",
   "execution_count": 134,
   "id": "a5a025f3",
   "metadata": {},
   "outputs": [],
   "source": [
    "import pandas as pd\n",
    "import numpy as np\n",
    "import sqldf "
   ]
  },
  {
   "cell_type": "code",
   "execution_count": 135,
   "id": "7ebf5fc0",
   "metadata": {},
   "outputs": [
    {
     "data": {
      "text/html": [
       "<div>\n",
       "<style scoped>\n",
       "    .dataframe tbody tr th:only-of-type {\n",
       "        vertical-align: middle;\n",
       "    }\n",
       "\n",
       "    .dataframe tbody tr th {\n",
       "        vertical-align: top;\n",
       "    }\n",
       "\n",
       "    .dataframe thead th {\n",
       "        text-align: right;\n",
       "    }\n",
       "</style>\n",
       "<table border=\"1\" class=\"dataframe\">\n",
       "  <thead>\n",
       "    <tr style=\"text-align: right;\">\n",
       "      <th></th>\n",
       "      <th>Workclass</th>\n",
       "      <th>fnlwgt</th>\n",
       "      <th>Capital Gain</th>\n",
       "      <th>Capital Loss</th>\n",
       "      <th>Hours per week</th>\n",
       "      <th>ID</th>\n",
       "      <th>Target</th>\n",
       "    </tr>\n",
       "  </thead>\n",
       "  <tbody>\n",
       "    <tr>\n",
       "      <th>0</th>\n",
       "      <td>State-gov</td>\n",
       "      <td>77516.0</td>\n",
       "      <td>2174.0</td>\n",
       "      <td>0.0</td>\n",
       "      <td>40.0</td>\n",
       "      <td>49084</td>\n",
       "      <td>&lt;=50K</td>\n",
       "    </tr>\n",
       "    <tr>\n",
       "      <th>1</th>\n",
       "      <td>Self-emp-not-inc</td>\n",
       "      <td>83311.0</td>\n",
       "      <td>0.0</td>\n",
       "      <td>0.0</td>\n",
       "      <td>13.0</td>\n",
       "      <td>68553</td>\n",
       "      <td>&lt;=50K</td>\n",
       "    </tr>\n",
       "    <tr>\n",
       "      <th>2</th>\n",
       "      <td>Private</td>\n",
       "      <td>215646.0</td>\n",
       "      <td>0.0</td>\n",
       "      <td>0.0</td>\n",
       "      <td>40.0</td>\n",
       "      <td>143654</td>\n",
       "      <td>&lt;=50K</td>\n",
       "    </tr>\n",
       "    <tr>\n",
       "      <th>3</th>\n",
       "      <td>Private</td>\n",
       "      <td>234721.0</td>\n",
       "      <td>0.0</td>\n",
       "      <td>0.0</td>\n",
       "      <td>40.0</td>\n",
       "      <td>41510</td>\n",
       "      <td>&lt;=50K</td>\n",
       "    </tr>\n",
       "    <tr>\n",
       "      <th>4</th>\n",
       "      <td>Private</td>\n",
       "      <td>338409.0</td>\n",
       "      <td>0.0</td>\n",
       "      <td>0.0</td>\n",
       "      <td>40.0</td>\n",
       "      <td>195025</td>\n",
       "      <td>&lt;=50K</td>\n",
       "    </tr>\n",
       "  </tbody>\n",
       "</table>\n",
       "</div>"
      ],
      "text/plain": [
       "           Workclass    fnlwgt  Capital Gain  Capital Loss  Hours per week  \\\n",
       "0          State-gov   77516.0        2174.0           0.0            40.0   \n",
       "1   Self-emp-not-inc   83311.0           0.0           0.0            13.0   \n",
       "2            Private  215646.0           0.0           0.0            40.0   \n",
       "3            Private  234721.0           0.0           0.0            40.0   \n",
       "4            Private  338409.0           0.0           0.0            40.0   \n",
       "\n",
       "       ID  Target  \n",
       "0   49084   <=50K  \n",
       "1   68553   <=50K  \n",
       "2  143654   <=50K  \n",
       "3   41510   <=50K  \n",
       "4  195025   <=50K  "
      ]
     },
     "execution_count": 135,
     "metadata": {},
     "output_type": "execute_result"
    }
   ],
   "source": [
    "#Import csv\n",
    "\n",
    "p_data = pd.read_csv('p_data.csv',delimiter=';')\n",
    "w_data = pd.read_csv('w_data.csv',delimiter=';')\n",
    "\n",
    "w_data.head()"
   ]
  },
  {
   "cell_type": "code",
   "execution_count": 136,
   "id": "511d2042",
   "metadata": {},
   "outputs": [
    {
     "name": "stdout",
     "output_type": "stream",
     "text": [
      "En común hay 48842 IDs\n"
     ]
    }
   ],
   "source": [
    "##Punto 1\n",
    "#Merge\n",
    "\n",
    "inner_data = pd.merge(p_data,w_data,how=\"inner\",on=\"ID\")\n",
    "id_inner_count = inner_data[\"ID\"].count()\n",
    "\n",
    "print('En común hay',id_inner_count,'IDs')\n"
   ]
  },
  {
   "cell_type": "code",
   "execution_count": 137,
   "id": "1ec6fab5",
   "metadata": {},
   "outputs": [],
   "source": [
    "##Punto 1 bis\n",
    "#No tienen en común\n",
    "outer_data = pd.merge(left=p_data,right=w_data,how=\"outer\",on=\"ID\")\n",
    "\n",
    "not_in_data = outer_data[outer_data[\"Workclass\"].isna()]\n",
    "#not_in_data = outer_data.dropna(subset=['Workclass']).count()\n",
    "id_outer_count= not_in_data.count()\n",
    "\n"
   ]
  },
  {
   "cell_type": "code",
   "execution_count": 138,
   "id": "5b44739f",
   "metadata": {},
   "outputs": [
    {
     "data": {
      "text/plain": [
       "0        <=50K\n",
       "7         >50K\n",
       "32561      NaN\n",
       "Name: Target, dtype: object"
      ]
     },
     "execution_count": 138,
     "metadata": {},
     "output_type": "execute_result"
    }
   ],
   "source": [
    "#Punto 2\n",
    "#Target\n",
    "inner_data[\"Target\"]=inner_data[\"Target\"].str.strip()\n",
    "inner_data_mod=inner_data.replace([\"<=50K.\",\">50K.\"],[\"<=50K\",\">50K\"])\n",
    "\n",
    "inner_data_mod[\"Target\"].drop_duplicates()\n"
   ]
  },
  {
   "cell_type": "code",
   "execution_count": 139,
   "id": "f72f9dd9",
   "metadata": {},
   "outputs": [
    {
     "name": "stdout",
     "output_type": "stream",
     "text": [
      "El porcentaje de mujeres por arriba de los 50K es 38.8 % y el de los hombres es  61.2 %\n"
     ]
    }
   ],
   "source": [
    "#Punto 3\n",
    "#Proporcion entre personas....>50K <=50K\n",
    "#Calcular la proporción que hay entre personas con salarios >50k respecto del total para \n",
    "#Entre personas de distinto sexo, Raza y Educacion. Por ejemplo cuál es el porcentaje de mujeres con un salario mayor a 50K\n",
    "#y compararlo con el de los hombres. Lo mismo para personas de distintas razas y Educación\n",
    "\n",
    "import pandas as pd\n",
    "import numpy as np\n",
    "import sqldf \n",
    "\n",
    "inner_data.columns = inner_data.columns.str.replace(' ','_')\n",
    "\n",
    "query = \"\"\"\n",
    "SELECT count(ID)\n",
    "FROM inner_data\n",
    "where Sex = ' Female' AND Target = \"<=50K\";\n",
    "\"\"\"\n",
    "femalesup = sqldf.run(query).values[0][0]\n",
    "\n",
    "query = \"\"\"\n",
    "SELECT count(ID)\n",
    "FROM inner_data\n",
    "where Sex = ' Male' AND Target = \"<=50K\";\n",
    "\"\"\"\n",
    "malesup = sqldf.run(query).values[0][0]\n",
    "\n",
    "query = \"\"\"\n",
    "SELECT count(ID)\n",
    "FROM inner_data\n",
    "where Target = \"<=50K\";\n",
    "\"\"\"\n",
    "allup = sqldf.run(query).values[0][0]\n",
    "\n",
    "\n",
    "print(\"El porcentaje de mujeres por arriba de los 50K es\",round(((femalesup/allup)*100),2),\"% y el de los hombres es \",round(((malesup/allup)*100),2),\"%\")\n",
    "\n",
    "#En sql se puede hacer en 1 sola query pero aca me marearon los \"\""
   ]
  },
  {
   "cell_type": "code",
   "execution_count": 140,
   "id": "0d62346a",
   "metadata": {
    "scrolled": true
   },
   "outputs": [
    {
     "name": "stdout",
     "output_type": "stream",
     "text": [
      "El porcentaje de personas de raza blanca por arriba de los 50K es 83.73 % y el de personas de raza negra es  11.07 %\n"
     ]
    }
   ],
   "source": [
    "query = \"\"\"\n",
    "SELECT count(ID)\n",
    "FROM inner_data\n",
    "where Race = ' White' AND Target = \"<=50K\";\n",
    "\"\"\"\n",
    "whiteup = sqldf.run(query).values[0][0]\n",
    "\n",
    "query = \"\"\"\n",
    "SELECT count(ID)\n",
    "FROM inner_data\n",
    "where Race = ' Black' AND Target = \"<=50K\";\n",
    "\"\"\"\n",
    "blackup = sqldf.run(query).values[0][0]\n",
    "\n",
    "query = \"\"\"\n",
    "SELECT count(ID)\n",
    "FROM inner_data\n",
    "where Target = \"<=50K\";\n",
    "\"\"\"\n",
    "allup = sqldf.run(query).values[0][0]\n",
    "\n",
    "print(\"El porcentaje de personas de raza blanca por arriba de los 50K es\",round(((whiteup/allup)*100),2),\"% y el de personas de raza negra es \",round(((blackup/allup)*100),2),\"%\")\n"
   ]
  },
  {
   "cell_type": "code",
   "execution_count": 141,
   "id": "fefbfc09",
   "metadata": {},
   "outputs": [
    {
     "name": "stdout",
     "output_type": "stream",
     "text": [
      "El porcentaje de personas con Bachelor por arriba de los 50K es 12.68 % y el de personas con HS-grad es  35.7 %\n"
     ]
    }
   ],
   "source": [
    "query = \"\"\"\n",
    "SELECT count(ID)\n",
    "FROM inner_data\n",
    "where Education = ' Bachelors' AND Target = \"<=50K\";\n",
    "\"\"\"\n",
    "bachup = sqldf.run(query).values[0][0]\n",
    "\n",
    "query = \"\"\"\n",
    "SELECT count(ID)\n",
    "FROM inner_data\n",
    "where Education = ' HS-grad' AND Target = \"<=50K\";\n",
    "\"\"\"\n",
    "HSup = sqldf.run(query).values[0][0]\n",
    "\n",
    "query = \"\"\"\n",
    "SELECT count(ID)\n",
    "FROM inner_data\n",
    "where Target = \"<=50K\";\n",
    "\"\"\"\n",
    "allup = sqldf.run(query).values[0][0]\n",
    "\n",
    "print(\"El porcentaje de personas con Bachelor por arriba de los 50K es\",round(((bachup/allup)*100),2),\"% y el de personas con HS-grad es \",round(((HSup/allup)*100),2),\"%\")\n"
   ]
  },
  {
   "cell_type": "code",
   "execution_count": null,
   "id": "17f89992",
   "metadata": {},
   "outputs": [],
   "source": []
  },
  {
   "cell_type": "code",
   "execution_count": null,
   "id": "d65ccd9a",
   "metadata": {},
   "outputs": [],
   "source": []
  }
 ],
 "metadata": {
  "kernelspec": {
   "display_name": "Python 3",
   "language": "python",
   "name": "python3"
  },
  "language_info": {
   "codemirror_mode": {
    "name": "ipython",
    "version": 3
   },
   "file_extension": ".py",
   "mimetype": "text/x-python",
   "name": "python",
   "nbconvert_exporter": "python",
   "pygments_lexer": "ipython3",
   "version": "3.9.1"
  }
 },
 "nbformat": 4,
 "nbformat_minor": 5
}
